{
 "cells": [
  {
   "cell_type": "code",
   "execution_count": 2,
   "metadata": {},
   "outputs": [],
   "source": [
    "from lxml import etree\n",
    "from collections import OrderedDict\n",
    "import pickle\n",
    "import numpy as np\n",
    "import re"
   ]
  },
  {
   "cell_type": "code",
   "execution_count": 5,
   "metadata": {},
   "outputs": [],
   "source": [
    "datamap=OrderedDict()\n",
    "# datamap[\"AE\"]=\"C:/Users/harshitgujral/Desktop/Stack/data/android.stackexchange.com\"\n",
    "# datamap[\"DB\"]=\"C:/Users/harshitgujral/Desktop/Stack/data/dba.stackexchange.com\"\n",
    "# datamap[\"SE\"]=\"C:/Users/harshitgujral/Desktop/Stack/data/softwareengineering.stackexchange.com\"\n",
    "# datamap[\"SF\"]= \"C:/Users/harshitgujral/Desktop/Stack/data/serverfault.com\"\n",
    "# datamap[\"SU\"]=\"C:/Users/harshitgujral/Desktop/Stack/data/superuser.com\"\n",
    "datamap[\"SO\"]=\"C:/Users/harshitgujral/Desktop/Stack/data/stackoverflow.com-\"\n",
    "\n",
    "tagfile=\"tags/Logging-topic-modelling - Sheet3.csv\"\n",
    "mallet_location=\"C:/Mallet/Stack/\"\n",
    "\n",
    "logtags=list(set(read_tags(tagfile)))"
   ]
  },
  {
   "cell_type": "code",
   "execution_count": 4,
   "metadata": {},
   "outputs": [],
   "source": [
    "def read_tags(filename):\n",
    "    logtags=[]\n",
    "    fn=open(filename,\"r\")\n",
    "    next(fn)   # SKipping the first line\n",
    "    for row in fn:\n",
    "        logtags.append(row.split(\",\")[0].strip().lower())   \n",
    "    return logtags\n",
    "\n",
    "def atleast_one(a, b):\n",
    "    return not set(a).isdisjoint(b)\n",
    "\n",
    "def refine_tags(tags):\n",
    "    if tags!=None:\n",
    "        l=tags.split('><')\n",
    "        l=[i.replace('>','').replace('<','').lower() for i in l]\n",
    "        return l\n",
    "    else:\n",
    "        return [\"???\"]\n",
    "\n",
    "def distribute_posts(website,logtags):\n",
    "    if website==\"SO\":\n",
    "        datamap[website]=datamap[website]+\"Posts\"   \n",
    "    \n",
    "    f=open(datamap[website]+\"/Posts.xml\",\"rb\")\n",
    "    next(f)\n",
    "    next(f)\n",
    "    count=0\n",
    "    for l in f:\n",
    "        try:\n",
    "            row=etree.XML(l)      \n",
    "            posttypeid=row.get(\"PostTypeId\") \n",
    "            acceptedanswerID=row.get(\"AcceptedAnswerId\")\n",
    "            tags=refine_tags(row.get(\"Tags\"))\n",
    "            \n",
    "            if posttypeid==\"1\":\n",
    "                if atleast_one(tags,logtags):\n",
    "                    body=row.get(\"Body\")\n",
    "                    title=row.get(\"Title\")\n",
    "                    body=title+\" \"+body\n",
    "                    body=process_string(body)\n",
    "                    fo=open(mallet_location+website+\"/\"+str(count)+\".txt\",\"w\")\n",
    "                    count+=1\n",
    "                    fo.write(body)\n",
    "                    fo.close()\n",
    "\n",
    "        except:\n",
    "            print(l)\n",
    "    f.close()\n",
    "    print(count)\n",
    "    return\n",
    "\n",
    "def process_string(s):\n",
    "    s=clean_code(s)\n",
    "    s=remove_HTML(s)\n",
    "    s=remove_miscell(s)\n",
    "    s=remove_special(s)\n",
    "    return s\n",
    "\n",
    "def clean_code(s):\n",
    "    s=s.replace(\"&lt;code&gt;\",\"<<\")\n",
    "    s=s.replace(\"&lt;/code&gt;\",\">>\")\n",
    "    s=s.replace(\"&ltcode&gt\",\"<<\")\n",
    "    s=s.replace(\"&lt/code&gt\",\">>\")\n",
    "    s=re.sub('<[^>]+>', '', s)\n",
    "    return s\n",
    "\n",
    "def remove_HTML(s):\n",
    "    s=s.replace(\"&lt;\",\"<\")\n",
    "    s=s.replace(\"&gt;\",\">\")\n",
    "    s=s.replace(\"&lt\",\"<\")\n",
    "    s=s.replace(\"&gt\",\">\")\n",
    "    p = re.compile(r'<.*?>')\n",
    "    return p.sub('', s)\n",
    "\n",
    "def remove_miscell(s):\n",
    "    s=s.replace(\"&quot;\",\"\")\n",
    "    s=s.replace(\"&#xA;\",\"\")\n",
    "    return s\n",
    "\n",
    "def remove_special(s):\n",
    "    s=re.sub('[^A-Za-z0-9]+', ' ', s)\n",
    "    return s.strip()"
   ]
  },
  {
   "cell_type": "code",
   "execution_count": 7,
   "metadata": {},
   "outputs": [],
   "source": []
  },
  {
   "cell_type": "code",
   "execution_count": 6,
   "metadata": {},
   "outputs": [
    {
     "ename": "MemoryError",
     "evalue": "",
     "output_type": "error",
     "traceback": [
      "\u001b[1;31m---------------------------------------------------------\u001b[0m",
      "\u001b[1;31mMemoryError\u001b[0m             Traceback (most recent call last)",
      "\u001b[1;32m<ipython-input-6-ba9b85a2acb3>\u001b[0m in \u001b[0;36m<module>\u001b[1;34m()\u001b[0m\n\u001b[0;32m      1\u001b[0m \u001b[1;32mfor\u001b[0m \u001b[0mfname\u001b[0m \u001b[1;32min\u001b[0m \u001b[0mlist\u001b[0m\u001b[1;33m(\u001b[0m\u001b[0mdatamap\u001b[0m\u001b[1;33m.\u001b[0m\u001b[0mkeys\u001b[0m\u001b[1;33m(\u001b[0m\u001b[1;33m)\u001b[0m\u001b[1;33m)\u001b[0m\u001b[1;33m:\u001b[0m\u001b[1;33m\u001b[0m\u001b[0m\n\u001b[1;32m----> 2\u001b[1;33m     \u001b[0mdistribute_posts\u001b[0m\u001b[1;33m(\u001b[0m\u001b[0mfname\u001b[0m\u001b[1;33m,\u001b[0m\u001b[0mlogtags\u001b[0m\u001b[1;33m)\u001b[0m\u001b[1;33m\u001b[0m\u001b[0m\n\u001b[0m",
      "\u001b[1;32m<ipython-input-4-43536eb833cf>\u001b[0m in \u001b[0;36mdistribute_posts\u001b[1;34m(website, logtags)\u001b[0m\n\u001b[0;32m     26\u001b[0m     \u001b[0mnext\u001b[0m\u001b[1;33m(\u001b[0m\u001b[0mf\u001b[0m\u001b[1;33m)\u001b[0m\u001b[1;33m\u001b[0m\u001b[0m\n\u001b[0;32m     27\u001b[0m     \u001b[0mcount\u001b[0m\u001b[1;33m=\u001b[0m\u001b[1;36m0\u001b[0m\u001b[1;33m\u001b[0m\u001b[0m\n\u001b[1;32m---> 28\u001b[1;33m     \u001b[1;32mfor\u001b[0m \u001b[0ml\u001b[0m \u001b[1;32min\u001b[0m \u001b[0mf\u001b[0m\u001b[1;33m:\u001b[0m\u001b[1;33m\u001b[0m\u001b[0m\n\u001b[0m\u001b[0;32m     29\u001b[0m         \u001b[1;32mtry\u001b[0m\u001b[1;33m:\u001b[0m\u001b[1;33m\u001b[0m\u001b[0m\n\u001b[0;32m     30\u001b[0m             \u001b[0mrow\u001b[0m\u001b[1;33m=\u001b[0m\u001b[0metree\u001b[0m\u001b[1;33m.\u001b[0m\u001b[0mXML\u001b[0m\u001b[1;33m(\u001b[0m\u001b[0ml\u001b[0m\u001b[1;33m)\u001b[0m\u001b[1;33m\u001b[0m\u001b[0m\n",
      "\u001b[1;31mMemoryError\u001b[0m: "
     ]
    }
   ],
   "source": [
    "for fname in list(datamap.keys()):\n",
    "    distribute_posts(fname,logtags)"
   ]
  },
  {
   "cell_type": "code",
   "execution_count": null,
   "metadata": {},
   "outputs": [],
   "source": []
  }
 ],
 "metadata": {
  "kernelspec": {
   "display_name": "Python 3",
   "language": "python",
   "name": "python3"
  },
  "language_info": {
   "codemirror_mode": {
    "name": "ipython",
    "version": 3
   },
   "file_extension": ".py",
   "mimetype": "text/x-python",
   "name": "python",
   "nbconvert_exporter": "python",
   "pygments_lexer": "ipython3",
   "version": "3.6.3"
  }
 },
 "nbformat": 4,
 "nbformat_minor": 2
}
